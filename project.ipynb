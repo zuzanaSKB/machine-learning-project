{
  "cells": [
    {
      "cell_type": "code",
      "source": [
        "import numpy as np\n",
        "import pandas as pd\n",
        "import matplotlib.pyplot as plt\n",
        "from collections import defaultdict"
      ],
      "metadata": {
        "id": "ECpkF8M77Gm0"
      },
      "execution_count": 4,
      "outputs": []
    },
    {
      "cell_type": "code",
      "source": [
        "# load input data\n",
        "!wget https://raw.githubusercontent.com/zuzanaSKB/machine-learning-project/refs/heads/main/hw_echo_pinatrace.txt"
      ],
      "metadata": {
        "colab": {
          "base_uri": "https://localhost:8080/"
        },
        "id": "NYFpwK2eIrBH",
        "outputId": "6ec7c1be-5f90-4388-cd12-da9d1c43e1cc"
      },
      "execution_count": 8,
      "outputs": [
        {
          "output_type": "stream",
          "name": "stdout",
          "text": [
            "--2025-01-05 21:51:33--  https://raw.githubusercontent.com/zuzanaSKB/machine-learning-project/refs/heads/main/hw_echo_pinatrace.txt\n",
            "Resolving raw.githubusercontent.com (raw.githubusercontent.com)... 185.199.108.133, 185.199.109.133, 185.199.110.133, ...\n",
            "Connecting to raw.githubusercontent.com (raw.githubusercontent.com)|185.199.108.133|:443... connected.\n",
            "HTTP request sent, awaiting response... 200 OK\n",
            "Length: 4339498 (4.1M) [text/plain]\n",
            "Saving to: ‘hw_echo_pinatrace.txt’\n",
            "\n",
            "hw_echo_pinatrace.t 100%[===================>]   4.14M  --.-KB/s    in 0.08s   \n",
            "\n",
            "2025-01-05 21:51:34 (50.7 MB/s) - ‘hw_echo_pinatrace.txt’ saved [4339498/4339498]\n",
            "\n"
          ]
        }
      ]
    },
    {
      "cell_type": "code",
      "source": [
        "# preprocess input data\n",
        "\n",
        "def parse_pintrace_file():\n",
        "    entries = []\n",
        "    with open('hw_echo_pinatrace.txt', 'r') as file:\n",
        "        for line in file:\n",
        "            parts = line.split()\n",
        "            if len(parts) < 4:\n",
        "                continue\n",
        "\n",
        "            # extract data: address, operation, instr_ptr, size, next_addr\n",
        "            addr = parts[0].rstrip(':')\n",
        "            addr = int(addr, 16)\n",
        "            operation = parts[1]      # 'r' or 'w'\n",
        "            instr_ptr = int(parts[2], 16)\n",
        "            size = int(parts[3])      # Size in bytes\n",
        "            next_addr = int(parts[4], 16) if len(parts) > 4 else None\n",
        "\n",
        "            # append to list\n",
        "            entries.append({\n",
        "                \"addr\": addr,\n",
        "                \"operation\": operation,\n",
        "                \"instr_ptr\": instr_ptr,\n",
        "                \"size\": size,\n",
        "                \"next_addr\": next_addr\n",
        "            })\n",
        "\n",
        "    return pd.DataFrame(entries)\n",
        "\n",
        "# feature extraction\n",
        "\n",
        "# 1. Address Delta (addr_delta)\n",
        "def calculate_addr_delta(df):\n",
        "    df['addr_delta'] = df['addr'].diff().fillna(0)\n",
        "\n",
        "# 2. Access Frequency (freq)\n",
        "def calculate_access_frequency(df):\n",
        "    address_freq = df['addr'].value_counts()\n",
        "    df['freq'] = df['addr'].map(address_freq)\n",
        "\n",
        "# 3. Instruction Pointer Reuse (instr_reuse)\n",
        "def calculate_instr_reuse(df):\n",
        "    instr_ptr_reuse = df['instr_ptr'].value_counts()\n",
        "    df['instr_reuse'] = df['instr_ptr'].map(instr_ptr_reuse)\n",
        "\n",
        "# 4. Temporal Gap (temporal_gap)\n",
        "def calculate_temporal_gap(df):\n",
        "    df['temporal_gap'] = df.groupby('addr').cumcount()\n",
        "\n",
        "# 5. Spatial Locality (spatial_locality) - Check if addresses are close (same page)\n",
        "def calculate_spatial_locality(df, page_size=4096):\n",
        "    df['spatial_locality'] = df['addr'].apply(lambda x: (x // page_size))\n",
        "\n",
        "# 6. Next Address Presence (next_addr_present)\n",
        "def calculate_next_addr_present(df):\n",
        "    df['next_addr_present'] = df['next_addr'].notna().astype(int)\n",
        "\n",
        "\n",
        "def process_trace_data(file_path):\n",
        "    # Step 1: Parse the file\n",
        "    df = parse_pintrace_file()\n",
        "    print(df.head())\n",
        "\n",
        "    # Step 2: Feature Extraction\n",
        "    calculate_addr_delta(df)\n",
        "    calculate_access_frequency(df)\n",
        "    calculate_instr_reuse(df)\n",
        "    calculate_temporal_gap(df)\n",
        "    calculate_spatial_locality(df)\n",
        "    calculate_next_addr_present(df)\n",
        "\n",
        "    # Show the resulting DataFrame with features\n",
        "    print(df.head())  # Display the first few rows of the DataFrame\n",
        "\n",
        "    # Optional: Save to CSV\n",
        "    df.to_csv('memory_trace_features.csv', index=False)\n",
        "\n",
        "# Run the process on the trace file\n",
        "process_trace_data('hw_echo_pinatrace.out')\n"
      ],
      "metadata": {
        "colab": {
          "base_uri": "https://localhost:8080/"
        },
        "id": "34pePnLKF99n",
        "outputId": "5b483e9d-128f-4691-9f82-364b03e0698e"
      },
      "execution_count": 14,
      "outputs": [
        {
          "output_type": "stream",
          "name": "stdout",
          "text": [
            "              addr operation        instr_ptr  size        next_addr\n",
            "0  123680716817731         W  140731905595736     8  123680716817736\n",
            "1  123680716820948         W  140731905595728     8                0\n",
            "2  123680716820980         W  140731905595720     8                0\n",
            "3  123680716820982         W  140731905595712     8                0\n",
            "4  123680716820984         W  140731905595704     8                0\n",
            "              addr operation        instr_ptr  size        next_addr  \\\n",
            "0  123680716817731         W  140731905595736     8  123680716817736   \n",
            "1  123680716820948         W  140731905595728     8                0   \n",
            "2  123680716820980         W  140731905595720     8                0   \n",
            "3  123680716820982         W  140731905595712     8                0   \n",
            "4  123680716820984         W  140731905595704     8                0   \n",
            "\n",
            "   addr_delta  freq  instr_reuse  temporal_gap  spatial_locality  \\\n",
            "0         0.0     1            7             0       30195487504   \n",
            "1      3217.0     1            5             0       30195487505   \n",
            "2        32.0     1            5             0       30195487505   \n",
            "3         2.0     1            5             0       30195487505   \n",
            "4         2.0     1            5             0       30195487505   \n",
            "\n",
            "   next_addr_present  \n",
            "0                  1  \n",
            "1                  1  \n",
            "2                  1  \n",
            "3                  1  \n",
            "4                  1  \n"
          ]
        }
      ]
    },
    {
      "cell_type": "code",
      "source": [],
      "metadata": {
        "id": "EGmLXCChQKif"
      },
      "execution_count": null,
      "outputs": []
    }
  ],
  "metadata": {
    "language_info": {
      "name": "python"
    },
    "colab": {
      "provenance": []
    },
    "kernelspec": {
      "name": "python3",
      "display_name": "Python 3"
    }
  },
  "nbformat": 4,
  "nbformat_minor": 0
}